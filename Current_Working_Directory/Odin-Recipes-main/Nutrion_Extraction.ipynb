{
 "cells": [
  {
   "cell_type": "markdown",
   "metadata": {},
   "source": [
    "Parse Ingredients from HTML (using BeautifulSoup)"
   ]
  },
  {
   "cell_type": "code",
   "execution_count": 1,
   "metadata": {},
   "outputs": [
    {
     "name": "stdout",
     "output_type": "stream",
     "text": [
      "['5 eggs', '3 tablespoons mayonnaise', '2 tablespoons Dijon mustard', '2 tablespoons sweet pickle relish', '1 teaspoon steak sauce', 'Â¼ teaspoon paprika', 'Â¼ teaspoon dried dill weed', 'Salt and ground black pepper to taste', '1 pinch cayenne pepper', 'Place eggs in a saucepan and cover with water. Bring to a boil, remove from heat, and let eggs stand in hot water for 15 minutes. Remove eggs from hot water, cool under cold running water, and peel.', 'Chop eggs and transfer to a large bowl.', 'Stir mayonnaise, Dijon mustard, sweet pickle relish, steak sauce, paprika, and dill into eggs until well mixed; season with salt and black pepper. Cover and refrigerate until chilled, if desired.', 'Sprinkle with cayenne pepper before serving.']\n"
     ]
    }
   ],
   "source": [
    "from bs4 import BeautifulSoup\n",
    "\n",
    "with open(\"egg.html\", \"r\") as f:\n",
    "    soup = BeautifulSoup(f, \"html.parser\")\n",
    "\n",
    "ingredients = soup.find_all('li')\n",
    "ingredient_list = [ingredient.text for ingredient in ingredients]\n",
    "print(ingredient_list)\n"
   ]
  },
  {
   "cell_type": "markdown",
   "metadata": {},
   "source": [
    "Query Nutritional Data (using Nutritionix API)"
   ]
  },
  {
   "cell_type": "markdown",
   "metadata": {},
   "source": [
    "Alternative API Link (Open Foods) : https://world.openfoodfacts.org/data"
   ]
  },
  {
   "cell_type": "code",
   "execution_count": 2,
   "metadata": {},
   "outputs": [
    {
     "name": "stdout",
     "output_type": "stream",
     "text": [
      "{'swagger': '2.0', 'info': {'version': '1.2', 'title': 'Nutrition Analysis API', 'description': ''}, 'schemes': ['https'], 'host': 'api.edamam.com', 'tags': [{'name': 'Individual Text Line Analysis'}, {'name': 'Full Recipe Analysis'}], 'paths': {'/api/nutrition-details': {'post': {'tags': ['Full Recipe Analysis'], 'summary': 'Nutrition Analysis for a Full Recipe', 'description': 'This returns the nutritional information based on a POST request of the recipe content. The POST request submits the recipe content, specifically the recipe title and ingredient list. The response the API returns, will contain the nutritional analysis for the recipe based on the information provided.\\n \\n <b>Access Point:</b> https://api.edamam.com/api/nutrition-details', 'consumes': ['application/json'], 'parameters': [{'name': 'app_id', 'in': 'query', 'x-data-threescale-name': 'app_ids', 'description': 'The application ID, obtained from the dashboard, https://developer.edamam.com/admin/applications.', 'required': True, 'type': 'string'}, {'name': 'app_key', 'in': 'query', 'x-data-threescale-name': 'app_keys', 'description': 'The application key, obtained from the dashboard, https://developer.edamam.com/admin/applications.', 'required': True, 'type': 'string'}, {'name': 'Edamam-Account-User', 'description': 'ID of the account user. Should be used *only* if the account is configured for active user tracking.', 'in': 'header', 'type': 'string'}, {'name': 'beta', 'in': 'query', 'description': 'Allow beta features in the request and response', 'type': 'boolean'}, {'name': 'If-None-Match', 'in': 'header', 'description': 'Each successfully processed recipe will also return a tag in the ETag response header. This value must be preserved together with the recipe. When resubmitting the recipe, you should include the value in the If-None-Match request header and store the updated ETag header.', 'type': 'string'}, {'name': 'force', 'in': 'query', 'description': 'Forces the re-evaluation of the recipe. The value, if any, is ignored.', 'type': 'boolean'}, {'name': 'body', 'in': 'body', 'description': 'Using the food ID and the measure URI which parser provides you can make a request to the nutrients access point. The nutrients access points returns nutrition with diet and health labels for a given quantity of the food.', 'required': True, 'schema': {'type': 'object', 'required': ['title', 'ingr'], 'properties': {'title': {'type': 'string'}, 'ingr': {'type': 'array', 'items': {'type': 'string'}}, 'url': {'type': 'string'}, 'summary': {'type': 'string'}, 'yield': {'type': 'string'}, 'time': {'type': 'string'}, 'img': {'type': 'string'}, 'prep': {'type': 'string'}}}}], 'responses': {'200': {'description': 'OK - Recipe object containing number of servings (yield), total calories for the recipe (calories), nutrient content by nutrient type (totalNutrients, totalDaily), diet and health classification (dietLabels, healthLabels)'}, '304': {'description': 'Not Modified.'}, '404': {'description': \"Not Found - The specified URL was not found or couldn't be retrieved\"}, '409': {'description': 'The provided ETag token does not match the input data'}, '422': {'description': \"Unprocessable Entity - Couldn't parse the recipe or extract the nutritional info\"}, '555': {'description': 'Recipe with insufficient quality to process correctly'}}}}, '/api/nutrition-data': {'get': {'tags': ['Individual Text Line Analysis'], 'summary': 'Nutrition Analysis for a Single Ingredient', 'description': 'This returns the nutritional analysis for the specified food text by extracting information from a short unstructured food text (usually an ingredient line and returns the following structured data for the text: quantity, measure and food,) and if available: diet, health and allergen labels for the text.  With the built in food logging feature, this allows for change of context. For example, “rice” will normally be matched to raw rice while, with the food logging feature on, it will match to ready to eat ‘cooked rice.’ \\n \\n <b>Access Point:</b> https://api.edamam.com/api/nutrition-data', 'parameters': [{'name': 'app_id', 'in': 'query', 'x-data-threescale-name': 'app_ids', 'description': 'The application ID, obtained from the account dashboard, https://developer.edamam.com/admin/applications.', 'required': True, 'type': 'string'}, {'name': 'app_key', 'in': 'query', 'x-data-threescale-name': 'app_keys', 'description': 'The application key, obtained from the account dashboard, https://developer.edamam.com/admin/applications.', 'required': True, 'type': 'string'}, {'name': 'Edamam-Account-User', 'description': 'ID of the account user. Should be used *only* if the account is configured for active user tracking.', 'in': 'header', 'type': 'string'}, {'name': 'nutrition-type', 'in': 'query', 'description': 'Select between the cooking and food logging processor.', 'type': 'string', 'default': 'cooking', 'enum': ['cooking', 'logging']}, {'name': 'ingr', 'in': 'query', 'description': 'The ingredient.', 'required': True, 'type': 'string'}, {'name': 'If-None-Match', 'in': 'header', 'description': \"First, each successfully processed recipe will also return a tag in the ETag response header. This value must be preserved together with the recipe. Then, when resubmitting the recipe, you should include the value in the 'If-None-Match' request header.\", 'type': 'string'}], 'responses': {'200': {'description': 'OK - Recipe object containing: number of servings (yield), total calories for the recipe (calories), nutrient content by nutrient type (totalNutrients, totalDaily), and diet and health classifications (dietLabels, healthLabels)'}, '304': {'description': 'Not Modified'}, '404': {'description': \"Not Found - The specified URL was not found or couldn't be retrieved\"}, '409': {'description': 'The provided ETag token does not match the input data'}, '422': {'description': \"Unprocessable Entity - Couldn't parse the recipe or extract the nutritional info\"}, '555': {'description': 'Recipe with insufficient quality to process correctly'}}}}}}\n"
     ]
    }
   ],
   "source": [
    "import requests\n",
    "\n",
    "API_ID = '62b686e5'\n",
    "API_KEY = '7c746967a6bc3a61137837e7e946c0b8'\n",
    "\n",
    "def get_nutrition(ingredient):\n",
    "    url = f\"https://api.edamam.com/doc/open-api/nutrition-analysis-v1.json\"\n",
    "    headers = {\n",
    "        \"x-app-id\": API_ID,\n",
    "        \"x-app-key\": API_KEY,\n",
    "        \"x-remote-user-id\": \"0\"\n",
    "    }\n",
    "    data = {\"query\": ingredient}\n",
    "    response = requests.post(url, headers=headers, json=data)\n",
    "    return response.json()\n",
    "\n",
    "# Example: Get nutrition for 5 eggs\n",
    "nutrition_data = get_nutrition(\"5 eggs\")\n",
    "print(nutrition_data)\n"
   ]
  }
 ],
 "metadata": {
  "kernelspec": {
   "display_name": "Python 3",
   "language": "python",
   "name": "python3"
  },
  "language_info": {
   "codemirror_mode": {
    "name": "ipython",
    "version": 3
   },
   "file_extension": ".py",
   "mimetype": "text/x-python",
   "name": "python",
   "nbconvert_exporter": "python",
   "pygments_lexer": "ipython3",
   "version": "3.12.6"
  }
 },
 "nbformat": 4,
 "nbformat_minor": 2
}
